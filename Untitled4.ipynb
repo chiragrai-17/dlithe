{
 "cells": [
  {
   "cell_type": "code",
   "execution_count": 1,
   "metadata": {},
   "outputs": [
    {
     "name": "stdout",
     "output_type": "stream",
     "text": [
      "Name: chirag\n",
      "Phone number: 8792889924\n",
      "Place: mulki\n",
      "Temperature in celsius: 27\n"
     ]
    }
   ],
   "source": [
    "import datetime\n",
    "\n",
    "current_date_and_time = datetime.datetime.now()\n",
    "cdt = str(current_date_and_time)\n",
    "k = cdt.replace(\":\", \"-\")\n",
    "extension = \".txt\"\n",
    "\n",
    "file_name = k[:19] + extension\n",
    "file = open(file_name, 'w')\n",
    "\n",
    "name = input(\"Name: \")\n",
    "number = str(input(\"Phone number: \"))\n",
    "place = input(\"Place: \")\n",
    "temperature = str(float(input(\"Temperature in celsius: \")))\n",
    "\n",
    "file.write(\"Name         : \" + name + \"\\n\")\n",
    "file.write(\"Phone number : \" + number + \"\\n\")\n",
    "file.write(\"Place        : \" + place + \"\\n\")\n",
    "file.write(\"Temperature  : \" + temperature + \"\\n\")\n",
    "\n",
    "file.close()"
   ]
  },
  {
   "cell_type": "code",
   "execution_count": null,
   "metadata": {},
   "outputs": [],
   "source": []
  }
 ],
 "metadata": {
  "kernelspec": {
   "display_name": "Python 3",
   "language": "python",
   "name": "python3"
  },
  "language_info": {
   "codemirror_mode": {
    "name": "ipython",
    "version": 3
   },
   "file_extension": ".py",
   "mimetype": "text/x-python",
   "name": "python",
   "nbconvert_exporter": "python",
   "pygments_lexer": "ipython3",
   "version": "3.8.5"
  }
 },
 "nbformat": 4,
 "nbformat_minor": 4
}
